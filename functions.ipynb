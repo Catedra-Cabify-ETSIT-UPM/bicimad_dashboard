{
 "cells": [
  {
   "cell_type": "markdown",
   "id": "954e827d",
   "metadata": {},
   "source": [
    "# BiciMAD interactive network visualization dashboard"
   ]
  },
  {
   "cell_type": "code",
   "execution_count": 2,
   "id": "d646be0e",
   "metadata": {
    "ExecuteTime": {
     "end_time": "2021-06-10T09:03:57.838509Z",
     "start_time": "2021-06-10T09:03:57.057474Z"
    }
   },
   "outputs": [],
   "source": [
    "from typing import Union, List\n",
    "\n",
    "from geopy.distance import geodesic\n",
    "from pyvis.network import Network\n",
    "import plotly.graph_objects as go\n",
    "import networkx as nx\n",
    "from scipy import stats\n",
    "import numpy as np\n",
    "import json\n",
    "import pandas as pd\n",
    "import plotly.express as px"
   ]
  },
  {
   "cell_type": "code",
   "execution_count": 3,
   "id": "466f3547",
   "metadata": {
    "ExecuteTime": {
     "end_time": "2021-06-10T09:03:57.845787Z",
     "start_time": "2021-06-10T09:03:57.840365Z"
    }
   },
   "outputs": [],
   "source": [
    "# Type aliases\n",
    "Series = pd.core.series.Series\n",
    "DataFrame = pd.core.frame.DataFrame\n",
    "Graph = nx.classes.graph.Graph\n",
    "Figure = go.Figure"
   ]
  },
  {
   "cell_type": "code",
   "execution_count": 4,
   "id": "71c1e405",
   "metadata": {
    "ExecuteTime": {
     "end_time": "2021-06-10T09:03:57.850528Z",
     "start_time": "2021-06-10T09:03:57.847648Z"
    }
   },
   "outputs": [],
   "source": [
    "def distance_calc(row: Series, start: tuple = (40.4166, -3.70384)) -> float:\n",
    "    \"\"\"Calculate the distance between two points.\n",
    "\n",
    "    Arguments:\n",
    "        row(pandas.core.series.Series): row of a DataFrame containing\n",
    "            at least 'Latitud' and 'Longitud' columns\n",
    "        start(tuple): tuple containing longitude and latitude\n",
    "\n",
    "    Returns:\n",
    "        float: distance in meters\n",
    "    \"\"\"\n",
    "    stop = (row['Latitud'], row['Longitud'])\n",
    "\n",
    "    return geodesic(start, stop).meters"
   ]
  },
  {
   "cell_type": "code",
   "execution_count": 5,
   "id": "6d2c9e26",
   "metadata": {
    "ExecuteTime": {
     "end_time": "2021-06-10T09:03:57.857144Z",
     "start_time": "2021-06-10T09:03:57.852129Z"
    }
   },
   "outputs": [],
   "source": [
    "def load_stations(stations_path: str = 'data/bases_bicimad.csv') -> DataFrame:\n",
    "    \"\"\"Load the stations CSV merging duplicated stations and\n",
    "    adding a column with the distance of the station to the\n",
    "    center of the city.\n",
    "\n",
    "    Arguments:\n",
    "        stations_path(str): path to the stations CSV file\n",
    "\n",
    "    Returns:\n",
    "        pandas.core.frame.DataFrame: resulting DataFrame\n",
    "    \"\"\"\n",
    "    stations = pd.read_csv(stations_path, sep=';', index_col=False)\n",
    "    # Remove duplicated stations (added manually)\n",
    "    stations.drop(stations.loc[stations['Número'].isin([\n",
    "        '001 b',\n",
    "        '020 ampliacion',\n",
    "        '025 b',\n",
    "        '080 b',\n",
    "        '090 ampliacion',\n",
    "        '106 b',\n",
    "        '111 b',\n",
    "        '116 b',\n",
    "        '128 ampliacion',\n",
    "        '140 ampliación',\n",
    "        '161 ampliacion',\n",
    "    ])].index,\n",
    "                  inplace=True)\n",
    "\n",
    "    # Replace names of some of the original stations that were\n",
    "    # duplicated (added manually)\n",
    "    stations['Número'] = stations['Número'].replace({\n",
    "        '001 a': 1,\n",
    "        '025 a': 25,\n",
    "        '080 a': 80,\n",
    "        '106 a': 106,\n",
    "        '111 a': 111,\n",
    "        '116 a': 116\n",
    "    })\n",
    "\n",
    "    # Convert 'Número' (station id) to numeric type\n",
    "    stations['Número'] = pd.to_numeric(stations['Número'])\n",
    "    # Add a columun with the distance of the station to the\n",
    "    # center of the city.\n",
    "    stations['dist_km0'] = stations.apply(lambda row: distance_calc(row),\n",
    "                                          axis=1)\n",
    "\n",
    "    return stations"
   ]
  },
  {
   "cell_type": "code",
   "execution_count": 6,
   "id": "a8129041",
   "metadata": {
    "ExecuteTime": {
     "end_time": "2021-06-10T09:03:57.866952Z",
     "start_time": "2021-06-10T09:03:57.858500Z"
    }
   },
   "outputs": [],
   "source": [
    "def load_trips(\n",
    "        stations: DataFrame,\n",
    "        trips_path: str = 'data/201906_Usage_Bicimad.json',\n",
    "        calc_ratios: bool = True) -> DataFrame:\n",
    "    \"\"\"Load the trips CSV and add the following columns (ratios if\n",
    "    `calc_ratios` is `True`):\n",
    "        `od_time_ratio`: travel time divided by the mean travel\n",
    "            time of trips with the same origin and destination,\n",
    "        `o_time_ratio`: travel time divided by the mean travel\n",
    "            time of trips with the same origin\n",
    "        `d_time_ratio`: travel time divided by the mean travel\n",
    "            time of trips with the same destination\n",
    "        `hour`: only the hour when the trip began (no minutes),\n",
    "        `day_type`: boolean variable, True if the trip started on a\n",
    "            Saturday or a Sunday\n",
    "        `o_dist_km0`: distance of the trip origin station to the\n",
    "            center of the city\n",
    "        `d_dist_km0`: distance of the trip destination station to the\n",
    "            center of the city\n",
    "\n",
    "\n",
    "    Arguments:\n",
    "        trips_path(str): path to the trips CSV file\n",
    "        stations(pandas.core.frame.DataFrame): stations DataFrame generated\n",
    "            from `load_stations()`\n",
    "\n",
    "    Returns:\n",
    "        pandas.core.frame.DataFrame: resulting DataFrame\n",
    "    \"\"\"\n",
    "\n",
    "    trips = pd.read_json(trips_path,\n",
    "                         lines=True,\n",
    "                         encoding='latin-1',\n",
    "                         dtype={'zip_code': 'Int64'},\n",
    "                         convert_dates='unplug_hourTime').drop(['track'],\n",
    "                                                               axis=1,\n",
    "                                                               errors='ignore')\n",
    "\n",
    "    trips['_id'] = trips['_id'].apply(lambda x: x['$oid'])\n",
    "    trips['zip_code'] = pd.to_numeric(trips['zip_code'], errors='coerce', downcast='integer')\n",
    "    trips['unplug_hourTime'] = pd.to_datetime(\n",
    "        trips['unplug_hourTime'].apply(lambda x: x['$date'] if isinstance(x, dict) else x), errors='coerce')\n",
    "    #trips = trips[trips['travel_time'] < 60 * 60 * 8]\n",
    "    if calc_ratios:\n",
    "        trips['od_time_ratio'] = trips['travel_time'] / \\\n",
    "            trips.groupby(['idunplug_station', 'idplug_station'])[\n",
    "            'travel_time'].transform('mean')\n",
    "        trips['o_time_ratio'] = trips['travel_time'] / \\\n",
    "            trips.groupby(['idunplug_station'])[\n",
    "            'travel_time'].transform('mean')\n",
    "        trips['d_time_ratio'] = trips['travel_time'] / \\\n",
    "            trips.groupby(['idplug_station'])[\n",
    "            'travel_time'].transform('mean')\n",
    "    trips['hour'] = trips['unplug_hourTime'].apply(lambda x: x.hour)\n",
    "    trips['day_type'] = trips['unplug_hourTime'].apply(\n",
    "        lambda x: int(x.weekday in [5, 6]))\n",
    "    trips = trips.merge(stations[['Número', 'dist_km0']],\n",
    "                        how='left',\n",
    "                        left_on='idunplug_station',\n",
    "                        right_on='Número').rename(columns={\n",
    "                            'dist_km0': 'o_dist_km0'\n",
    "                        }).drop(columns='Número')\n",
    "    trips = trips.merge(stations[['Número', 'dist_km0']],\n",
    "                        how='left',\n",
    "                        left_on='idplug_station',\n",
    "                        right_on='Número').rename(columns={\n",
    "                            'dist_km0': 'd_dist_km0'\n",
    "                        }).drop(columns='Número')\n",
    "    #     trips = trips.fillna(trips.mean())\n",
    "\n",
    "    return trips"
   ]
  },
  {
   "cell_type": "code",
   "execution_count": 7,
   "id": "c5949267",
   "metadata": {
    "ExecuteTime": {
     "end_time": "2021-06-10T09:03:57.877105Z",
     "start_time": "2021-06-10T09:03:57.868559Z"
    }
   },
   "outputs": [],
   "source": [
    "def load_situations(situations_path: str) -> DataFrame:\n",
    "    \"\"\"Load the situations json and add the following columns:\n",
    "        `hour`: only the hour of the situation (no minutes),\n",
    "        `day_type`: boolean variable, True if\n",
    "            Saturday or a Sunday\n",
    "\n",
    "    Arguments:\n",
    "        situations_path(str): path to the situations json file\n",
    "\n",
    "    Returns:\n",
    "        pandas.core.frame.DataFrame: resulting DataFrame\n",
    "    \"\"\"\n",
    "    data = []\n",
    "    with open(situations_path, encoding='latin-1') as json_file:\n",
    "        for line in json_file:\n",
    "            data.append(json.loads(line))\n",
    "\n",
    "    L = []\n",
    "    for l in data:\n",
    "        for s in l['stations']:\n",
    "            d = {'date': l['_id']}\n",
    "            for k, v in s.items():\n",
    "                d[k] = v\n",
    "            L.append(d)\n",
    "\n",
    "    situations = pd.DataFrame(L)\n",
    "\n",
    "    situations['longitude'] = pd.to_numeric(\n",
    "        situations['longitude'].apply(lambda x: x.replace(',', '.')),\n",
    "        errors='coerce')\n",
    "    situations['latitude'] = pd.to_numeric(\n",
    "        situations['latitude'].apply(lambda x: x.replace(',', '.')),\n",
    "        errors='coerce')\n",
    "    situations['date'] = pd.to_datetime(situations['date'], errors='coerce')\n",
    "    situations['hour'] = situations['date'].apply(lambda x: x.hour)\n",
    "    situations['day_type'] = situations['date'].apply(\n",
    "        lambda x: int(x.weekday in [5, 6]))\n",
    "\n",
    "    return situations"
   ]
  },
  {
   "cell_type": "code",
   "execution_count": 8,
   "id": "5375cdab",
   "metadata": {
    "ExecuteTime": {
     "end_time": "2021-06-10T09:03:57.880686Z",
     "start_time": "2021-06-10T09:03:57.878182Z"
    }
   },
   "outputs": [],
   "source": [
    "def get_trips_grouped(trips: DataFrame) -> DataFrame:\n",
    "    \"\"\"Group the trips DataFrame by origin and destiny and\n",
    "    aggregate by count and mean of the travel tiem. This\n",
    "    represents the number of trips and mean travel time\n",
    "    between pairs of stations (order matters).\n",
    "    \n",
    "    Arguments:\n",
    "        trips(pandas.core.frame.DataFrame): trips DataFrame generated\n",
    "            from `load_trips()`\n",
    "    \n",
    "    Returns:\n",
    "        pandas.core.frame.DataFrame: resulting DataFrame\n",
    "    \"\"\"\n",
    "    trips_grouped = trips.groupby(['idunplug_station', 'idplug_station'\n",
    "                                   ]).agg(weight=('travel_time', 'count'),\n",
    "                                          cost=('travel_time',\n",
    "                                                'mean')).reset_index()\n",
    "    # Convert the mean travel time to int64\n",
    "    trips_grouped['cost'] = trips_grouped['cost'].astype('int64')\n",
    "\n",
    "    return trips_grouped"
   ]
  },
  {
   "cell_type": "code",
   "execution_count": 9,
   "id": "e87a8750",
   "metadata": {
    "ExecuteTime": {
     "end_time": "2021-06-10T09:03:57.890083Z",
     "start_time": "2021-06-10T09:03:57.883078Z"
    }
   },
   "outputs": [],
   "source": [
    "def generate_graph(trips_grouped: DataFrame, stations: DataFrame) -> Graph:\n",
    "    \"\"\"Generate BiciMAD NetworkX graph.\n",
    "    \n",
    "    Nodes attributes:\n",
    "        size: degree of the node\n",
    "        title: address of the station (Dirección)\n",
    "        lon: logitude of the station\n",
    "        lat: latitude of the station\n",
    "        \n",
    "    Edge attributes:\n",
    "        title: cost of the edge\n",
    "    \n",
    "    Arguments:\n",
    "        trips_grouped(pandas.core.frame.DataFrame): grouped trips DataFrame\n",
    "            generated from `get_trips_grouped()`\n",
    "        stations(pandas.core.frame.DataFrame): stations DataFrame generated\n",
    "            from `load_stations()`\n",
    "    \n",
    "    Returns:\n",
    "        networkx.classes.graph.Graph: NetworkX graph\n",
    "    \"\"\"\n",
    "    # Generate graph\n",
    "    G = nx.from_pandas_edgelist(trips_grouped,\n",
    "                                source='idunplug_station',\n",
    "                                target='idplug_station',\n",
    "                                edge_attr=['weight', 'cost'],\n",
    "                                create_using=nx.DiGraph())\n",
    "    \n",
    "    pr = nx.algorithms.link_analysis.pagerank(G)\n",
    "\n",
    "    # Add size, title, lon, and lat to the nodes\n",
    "    for n in G.nodes:\n",
    "        G.nodes[n]['degree'] = G.degree(n)\n",
    "        G.nodes[n]['in_degree'] = G.in_degree(n)\n",
    "        G.nodes[n]['out_degree'] = G.out_degree(n)\n",
    "        G.nodes[n]['degree_w'] = G.degree(n, weight=\"weight\")\n",
    "        G.nodes[n]['in_degree_w'] = G.in_degree(n, weight=\"weight\")\n",
    "        G.nodes[n]['out_degree_w'] = G.out_degree(n, weight=\"weight\")\n",
    "        G.nodes[n]['pagerank'] = pr[n]\n",
    "        G.nodes[n]['title'] = stations[\n",
    "            stations['Número'] == n]['Direccion'].reset_index(drop=True).get(\n",
    "                0, None)\n",
    "        G.nodes[n]['lon'] = stations[stations['Número'] ==\n",
    "                                     n]['Longitud'].reset_index(drop=True).get(\n",
    "                                         0, None)\n",
    "        G.nodes[n]['lat'] = stations[stations['Número'] ==\n",
    "                                     n]['Latitud'].reset_index(drop=True).get(\n",
    "                                         0, None)\n",
    "\n",
    "    # Add title to the edges\n",
    "    for t in G.edges:\n",
    "        e = G.edges[t]\n",
    "        e['title'] = 'Cost: ' + str(round(e['cost'] / 60, 3)) + ' min.'\n",
    "\n",
    "    return G"
   ]
  },
  {
   "cell_type": "code",
   "execution_count": 10,
   "id": "26b0c45d",
   "metadata": {
    "ExecuteTime": {
     "end_time": "2021-06-10T09:03:57.895342Z",
     "start_time": "2021-06-10T09:03:57.891693Z"
    }
   },
   "outputs": [],
   "source": [
    "def get_edges(G: Graph) -> 2 * (list, ):\n",
    "    \"\"\"Get lists of edges properties for representation with Plotly.\n",
    "\n",
    "    The lists size is three times the number of edges.\n",
    "    The lists contain:\n",
    "        * origin longitude, destination longitude and None for each edge\n",
    "        * origin latitude, destination latitude and None for each edge\n",
    "\n",
    "    Arguments:\n",
    "        G(networkx.classes.graph.Graph): NetworkX graph\n",
    "\n",
    "    Retrurns:\n",
    "        tuple: tuple containing the lists\n",
    "\n",
    "    \"\"\"\n",
    "    # Initialization of the empty lists\n",
    "    edge_x = [] # longitudes\n",
    "    edge_y = [] # latitudes\n",
    "\n",
    "    # Loop over the edges\n",
    "    for edge in G.edges(data=True):\n",
    "        # Get lon, lat of the edges\n",
    "        x0, y0 = [G.nodes[edge[0]][key] for key in ['lon', 'lat'] if edge[0] in G.nodes]\n",
    "        x1, y1 = [G.nodes[edge[1]][key] for key in ['lon', 'lat'] if edge[1] in G.nodes]\n",
    "        # Append to their corresponding lists in the Plotly format\n",
    "        # (origin longitude/latitude, destination lonigtude/latitude, None)\n",
    "        edge_x.append(x0)\n",
    "        edge_x.append(x1)\n",
    "        edge_x.append(None)\n",
    "        edge_y.append(y0)\n",
    "        edge_y.append(y1)\n",
    "        edge_y.append(None)\n",
    "\n",
    "    return (edge_x, edge_y)"
   ]
  },
  {
   "cell_type": "code",
   "execution_count": 11,
   "id": "fe085bbd",
   "metadata": {
    "ExecuteTime": {
     "end_time": "2021-06-10T09:03:57.901848Z",
     "start_time": "2021-06-10T09:03:57.897019Z"
    }
   },
   "outputs": [],
   "source": [
    "def get_nodes(G: Graph) -> 4 * (list, ):\n",
    "    \"\"\"Get lists of nodes properties for representation with Plotly.\n",
    "\n",
    "    The lists size is equal to the number of nodes.\n",
    "    The lists contain:\n",
    "        * node origin latitude\n",
    "        * node origin longitude\n",
    "        * node text\n",
    "        * node id\n",
    "\n",
    "    Arguments:\n",
    "        G(networkx.classes.graph.Graph): NetworkX graph\n",
    "\n",
    "    Retrurns:\n",
    "        tuple: tuple containing the lists\n",
    "\n",
    "    \"\"\"\n",
    "    # Initialization of the empty lists\n",
    "    node_x = []  # longitudes\n",
    "    node_y = []  # latitudes\n",
    "    node_text = []  # texts\n",
    "    node_id = []  # IDs\n",
    "\n",
    "    # Loop over the nodes\n",
    "    for node in G.nodes():\n",
    "        # Get the longitude and latitude of the node\n",
    "        x, y = [G.nodes[node][key] for key in ['lon', 'lat']]\n",
    "        node_x.append(x)\n",
    "        node_y.append(y)\n",
    "        node_text.append(str(G.nodes[node]['title']) +\n",
    "                     ', # of connections: '+str(G.nodes[node]['size']))\n",
    "        node_id.append(node)\n",
    "    \n",
    "    return (node_x, node_y, node_text, node_id)"
   ]
  },
  {
   "cell_type": "code",
   "execution_count": 12,
   "id": "52dff36f",
   "metadata": {
    "ExecuteTime": {
     "end_time": "2021-06-10T09:03:57.908181Z",
     "start_time": "2021-06-10T09:03:57.903088Z"
    }
   },
   "outputs": [],
   "source": [
    "def get_figure(nodes: 4 * (list, ), edges: 2 * (list, )) -> Figure:\n",
    "    \"\"\"Get the Plotly representation of the nodes and edges.\n",
    "    \n",
    "    Arguments:\n",
    "        nodes(tuple): tuple containing lists of nodes properties\n",
    "        edges(tuple): tuple containing lists of edges properties\n",
    "        \n",
    "    \n",
    "    Returns:\n",
    "        (plotly.graph_objs._figure.Figure): generated figure\n",
    "    \"\"\"\n",
    "    # Input variables\n",
    "    \n",
    "    node_x, node_y, node_text, node_id = nodes\n",
    "    edge_x, edge_y = edges\n",
    "    \n",
    "    # Initialize empty figure\n",
    "    fig = go.Figure()\n",
    "    \n",
    "    # Add the nodes\n",
    "    fig.add_trace(go.Scattermapbox(\n",
    "        mode = \"markers\",\n",
    "        lon = node_x,\n",
    "        lat = node_y,\n",
    "        customdata = node_id,\n",
    "        hoverinfo='text',\n",
    "        text=node_text,\n",
    "        marker={'size': 10, 'color': 'blue'}\n",
    "        ))\n",
    "    \n",
    "    # Add the edges\n",
    "    fig.add_trace(go.Scattermapbox(\n",
    "        mode = \"lines\",\n",
    "        lon = edge_x,\n",
    "        lat = edge_y,\n",
    "        hoverinfo='none',\n",
    "        ))\n",
    "    # Figure setup\n",
    "    fig.update_layout(\n",
    "        margin ={'l':0,'t':0,'b':0,'r':0},\n",
    "        mapbox = {\n",
    "            'center': {'lon': -3.7, 'lat': 40.4277},\n",
    "            'style': \"open-street-map\",\n",
    "            'zoom': 12})\n",
    "    \n",
    "    return fig"
   ]
  },
  {
   "cell_type": "code",
   "execution_count": 13,
   "id": "69113900",
   "metadata": {
    "ExecuteTime": {
     "end_time": "2021-06-10T09:03:57.912185Z",
     "start_time": "2021-06-10T09:03:57.909205Z"
    }
   },
   "outputs": [],
   "source": [
    "def generate_figure() -> Figure:\n",
    "    \"\"\"Generate the network graph of BiciMAD and return the plot.\n",
    "    \n",
    "    Returns:\n",
    "        plotly.graph_objs._figure.Figure: representation of the network\n",
    "    \"\"\"\n",
    "    # Load data\n",
    "    stations = load_stations()\n",
    "    trips = load_trips(stations)\n",
    "    trips_grouped = get_trips_grouped(trips)\n",
    "    G = generate_graph(trips_grouped, stations)\n",
    "    \n",
    "    nodes = get_nodes(G)\n",
    "    edges = get_edges(G)\n",
    "    \n",
    "    return get_figure(nodes, edges)"
   ]
  },
  {
   "cell_type": "code",
   "execution_count": 14,
   "id": "8c95d271",
   "metadata": {
    "ExecuteTime": {
     "end_time": "2021-06-10T09:03:57.918466Z",
     "start_time": "2021-06-10T09:03:57.913536Z"
    }
   },
   "outputs": [],
   "source": [
    "def generate_graphs(trips: DataFrame, stations: DataFrame, by: str) -> (List[int], List[Graph]):\n",
    "    \"\"\"Generate BiciMAD NetworkX graphs per hour, day...\n",
    "    \n",
    "    Arguments:\n",
    "        trips(pandas.core.frame.DataFrame): trips DataFrame generated from `get_trips()`\n",
    "        stations(pandas.core.frame.DataFrame): stations DataFrame generated\n",
    "            from `load_stations()`\n",
    "        by(str): grouping method, either \"hour\" or \"day\"\n",
    "    \n",
    "    Returns:\n",
    "        List[int]: list of group keys (list of hours or days)\n",
    "        List[networkx.classes.graph.Graph]: list of NetworkX graphs\n",
    "    \"\"\"\n",
    "    indexes = []\n",
    "    graphs = []\n",
    "    \n",
    "    if by == \"hour\":\n",
    "        gby = trips[\"unplug_hourTime\"].dt.hour\n",
    "    elif by == \"day\":\n",
    "        #gby = [trips[\"unplug_hourTime\"].dt.day, trips[\"unplug_hourTime\"].dt.strftime(\"%A\")]  # untested\n",
    "        gby = [d.strftime('%d') + (\"*\" if d.weekday() in [5, 6] else \"\") for d in trips[\"unplug_hourTime\"]]\n",
    "    elif by == \"weekday\":\n",
    "        gby = trips[\"unplug_hourTime\"].dt.strftime('%w%A')\n",
    "    else:\n",
    "        raise\n",
    "        \n",
    "    for k, g in trips.groupby(gby):\n",
    "        indexes.append(k)\n",
    "        graphs.append(generate_graph(get_trips_grouped(g), stations))\n",
    "        \n",
    "    return indexes, graphs"
   ]
  },
  {
   "cell_type": "code",
   "execution_count": 15,
   "id": "6cc826c1",
   "metadata": {
    "ExecuteTime": {
     "end_time": "2021-06-10T09:03:57.923061Z",
     "start_time": "2021-06-10T09:03:57.919777Z"
    }
   },
   "outputs": [],
   "source": [
    "def generate_graphs(trips_gby: DataFrame, stations: DataFrame) -> (List[int], List[Graph]):\n",
    "    \"\"\"Generate BiciMAD NetworkX graphs per hour, day...\n",
    "    \n",
    "    Arguments:\n",
    "        trips_gby(pandas.core.frame.DataFrame): trips DataFrame grouped by `gby`\n",
    "            with a `gby` column\n",
    "        stations(pandas.core.frame.DataFrame): stations DataFrame generated\n",
    "            from `load_stations()`\n",
    "    \n",
    "    Returns:\n",
    "        List[int]: list of group keys (list of hours or days)\n",
    "        List[networkx.classes.graph.Graph]: list of NetworkX graphs\n",
    "    \"\"\"\n",
    "    indexes = []\n",
    "    graphs = []\n",
    "        \n",
    "    for k, g in trips_gby.groupby(\"gby\"):\n",
    "        indexes.append(str(int(k)))\n",
    "        graphs.append(generate_graph(g, stations))\n",
    "        \n",
    "    return indexes, graphs"
   ]
  },
  {
   "cell_type": "code",
   "execution_count": 16,
   "id": "26e7bfb9",
   "metadata": {
    "ExecuteTime": {
     "end_time": "2021-06-10T09:03:57.978065Z",
     "start_time": "2021-06-10T09:03:57.924412Z"
    }
   },
   "outputs": [],
   "source": [
    "stations = load_stations()"
   ]
  },
  {
   "cell_type": "code",
   "execution_count": 17,
   "id": "106c95be",
   "metadata": {
    "ExecuteTime": {
     "end_time": "2021-06-10T09:03:57.980875Z",
     "start_time": "2021-06-10T09:03:57.979130Z"
    }
   },
   "outputs": [],
   "source": [
    "# trips = load_trips(stations, 'tmp_trips/202103_movements.json')"
   ]
  },
  {
   "cell_type": "code",
   "execution_count": 18,
   "id": "f8c8f0a9",
   "metadata": {
    "ExecuteTime": {
     "end_time": "2021-06-10T09:03:57.983619Z",
     "start_time": "2021-06-10T09:03:57.981870Z"
    }
   },
   "outputs": [],
   "source": [
    "# trips = pd.read_json('tmp/202103_movements.json',\n",
    "#                      lines=True,\n",
    "#                      encoding='latin-1',\n",
    "#                      convert_dates='unplug_hourTime').drop(['track'],\n",
    "#                                                            axis=1,\n",
    "#                                                            errors='ignore')"
   ]
  },
  {
   "cell_type": "code",
   "execution_count": 19,
   "id": "5703c726",
   "metadata": {
    "ExecuteTime": {
     "end_time": "2021-06-10T09:03:57.986286Z",
     "start_time": "2021-06-10T09:03:57.984527Z"
    }
   },
   "outputs": [],
   "source": [
    "# data = []\n",
    "# with open('tmp_situations/Bicimad_Estacions_201809.json', encoding='latin-1') as json_file:\n",
    "#     for line in json_file:\n",
    "#         data.append(json.loads(line))\n",
    "\n",
    "# L = []\n",
    "# for l in data:\n",
    "#     for s in l['stations']:\n",
    "#         d = {'date': l['_id']}\n",
    "#         for k,v in s.items():\n",
    "#             d[k] = v\n",
    "#         L.append(d)\n",
    "\n",
    "# situations = pd.DataFrame(L)\n",
    "\n",
    "# situations['date'] = pd.to_datetime(situations['date'], errors='coerce')\n",
    "# situations['hour'] = situations['date'].apply(lambda x: x.hour)\n",
    "# situations['day_type'] = situations['date'].apply(\n",
    "#     lambda x: int(x.weekday in [5, 6]))\n",
    "\n",
    "# situations"
   ]
  },
  {
   "cell_type": "code",
   "execution_count": 20,
   "id": "4648845d",
   "metadata": {
    "ExecuteTime": {
     "end_time": "2021-06-10T09:03:57.989197Z",
     "start_time": "2021-06-10T09:03:57.987376Z"
    }
   },
   "outputs": [],
   "source": [
    "#load_situations('tmp_situations/Bicimad_Estacions_201809.json')"
   ]
  }
 ],
 "metadata": {
  "kernelspec": {
   "display_name": "Python 3",
   "language": "python",
   "name": "python3"
  },
  "language_info": {
   "codemirror_mode": {
    "name": "ipython",
    "version": 3
   },
   "file_extension": ".py",
   "mimetype": "text/x-python",
   "name": "python",
   "nbconvert_exporter": "python",
   "pygments_lexer": "ipython3",
   "version": "3.9.2"
  },
  "toc": {
   "base_numbering": 1,
   "nav_menu": {},
   "number_sections": true,
   "sideBar": true,
   "skip_h1_title": false,
   "title_cell": "Table of Contents",
   "title_sidebar": "Contents",
   "toc_cell": false,
   "toc_position": {},
   "toc_section_display": true,
   "toc_window_display": false
  },
  "varInspector": {
   "cols": {
    "lenName": 16,
    "lenType": 16,
    "lenVar": 40
   },
   "kernels_config": {
    "python": {
     "delete_cmd_postfix": "",
     "delete_cmd_prefix": "del ",
     "library": "var_list.py",
     "varRefreshCmd": "print(var_dic_list())"
    },
    "r": {
     "delete_cmd_postfix": ") ",
     "delete_cmd_prefix": "rm(",
     "library": "var_list.r",
     "varRefreshCmd": "cat(var_dic_list()) "
    }
   },
   "types_to_exclude": [
    "module",
    "function",
    "builtin_function_or_method",
    "instance",
    "_Feature"
   ],
   "window_display": false
  }
 },
 "nbformat": 4,
 "nbformat_minor": 5
}
